{
 "cells": [
  {
   "cell_type": "markdown",
   "metadata": {},
   "source": [
    "## Using XGBRegressor() on data scaled by MinMaxScaler(), instead of StandardScaler()"
   ]
  },
  {
   "cell_type": "markdown",
   "metadata": {},
   "source": [
    "## 10000 rows of data"
   ]
  },
  {
   "cell_type": "code",
   "execution_count": 1,
   "metadata": {},
   "outputs": [],
   "source": [
    "import pandas as pd\n",
    "import numpy as np\n",
    "from sklearn.model_selection import train_test_split\n",
    "from xgboost import XGBRegressor\n",
    "from sklearn.metrics import r2_score, mean_squared_error"
   ]
  },
  {
   "cell_type": "code",
   "execution_count": 10,
   "metadata": {},
   "outputs": [],
   "source": [
    "X = pd.read_csv('X_test.csv')\n",
    "y = pd.read_csv('y_test.csv')\n",
    "y = y['yFT']\n",
    "\n",
    "X_train, X_test, y_train, y_test = train_test_split(X, y, test_size = 0.3, random_state = 1)\n",
    "\n",
    "xgboost = XGBRegressor()\n",
    "xgboost.fit(X_train, y_train)\n",
    "y_pred= xgboost.predict(X_test)\n",
    "\n",
    "print('Training score: ', xgboost.score(X_train, y_train))\n",
    "print('RMSE: ', mean_squared_error(y_test, y_pred))\n",
    "print('R-squared score: ', r2_score(y_test, y_pred))"
   ]
  },
  {
   "cell_type": "markdown",
   "metadata": {},
   "source": [
    "## 100000 rows of data"
   ]
  },
  {
   "cell_type": "code",
   "execution_count": 18,
   "metadata": {},
   "outputs": [],
   "source": [
    "X = pd.read_csv('X_test100000.csv')\n",
    "ydf = pd.read_csv('y_test100000.csv')\n",
    "\n",
    "y = ydf['yFT']\n",
    "\n",
    "X_train, X_test, y_train, y_test = train_test_split(X, y, test_size = 0.3, random_state = 1)\n",
    "\n",
    "xgboost = XGBRegressor()\n",
    "xgboost.fit(X_train, y_train)\n",
    "y_pred = xgboost.predict(X_test)"
   ]
  },
  {
   "cell_type": "code",
   "execution_count": 19,
   "metadata": {},
   "outputs": [
    {
     "name": "stdout",
     "output_type": "stream",
     "text": [
      "Training R-Square 0.16326952350050172\n",
      "RMSE:  0.9684616081650654\n",
      "R-squared score:  0.0340012678853745\n"
     ]
    }
   ],
   "source": [
    "print('Training R-Square', xgboost.score(X_train, y_train))\n",
    "print('RMSE: ', mean_squared_error(y_test, y_pred))\n",
    "print('R-squared score: ', r2_score(y_test, y_pred))"
   ]
  },
  {
   "cell_type": "markdown",
   "metadata": {},
   "source": [
    "# No dummy (categorical) variables\n",
    "- MinMaxScaler for all variables including feature variable\n",
    "- 100000 rows\n",
    "- Month and unique carrier ID columns dropped\n",
    "- Origin and dest columns replaced with avg. arrival delay (unscaled)"
   ]
  },
  {
   "cell_type": "code",
   "execution_count": 11,
   "metadata": {},
   "outputs": [],
   "source": [
    "def replace_origin_dest(df):\n",
    "    # df: X features dataframe without one-hot encoding\n",
    "\n",
    "    # Find the average delay times by origin location, and store the values in a dictionary\n",
    "    origin = pd.read_csv('origin_arr_delay.txt', delimiter = '\\t', names = ['origin', 'avg_delay'])\n",
    "    origin = pd.Series(origin.avg_delay.values, index = origin.origin).to_dict()\n",
    "    \n",
    "    # Find the average delay times by destination location, and store the values in a dictionary\n",
    "    dest = pd.read_csv('dest_arr_delay.txt', delimiter = '\\t', names = ['dest', 'avg_delay'])\n",
    "    dest = pd.Series(dest.avg_delay.values, index = dest.dest).to_dict()\n",
    "    \n",
    "    # Replace the values in the \"origin\" and \"dest\" columns with the average arrival delay time\n",
    "    df['origin'] = df['origin'].replace(origin)\n",
    "    df['dest'] = df['dest'].replace(dest)\n",
    "    \n",
    "    return df"
   ]
  },
  {
   "cell_type": "code",
   "execution_count": 15,
   "metadata": {},
   "outputs": [
    {
     "name": "stdout",
     "output_type": "stream",
     "text": [
      "Training R-Square 0.17528500134304825\n",
      "RMSE:  0.02781708895978555\n",
      "R-squared score:  0.016622917851691343\n"
     ]
    }
   ],
   "source": [
    "X = pd.read_csv('X_test100000noDum.csv', compression = 'gzip')\n",
    "y = pd.read_csv('y_test100000noDum.csv', compression = 'gzip')\n",
    "X = X.drop(['op_unique_carrier', 'month'], axis = 1)\n",
    "X = replace_origin_dest(X)\n",
    "y = y['yFT']\n",
    "\n",
    "X_train, X_test, y_train, y_test = train_test_split(X, y, test_size = 0.3, random_state = 1)\n",
    "\n",
    "xgboost = XGBRegressor()\n",
    "xgboost.fit(X_train, y_train)\n",
    "y_pred = xgboost.predict(X_test)\n",
    "\n",
    "print('Training R-Square', xgboost.score(X_train, y_train))\n",
    "print('RMSE: ', mean_squared_error(y_test, y_pred))\n",
    "print('R-squared score: ', r2_score(y_test, y_pred))"
   ]
  },
  {
   "cell_type": "markdown",
   "metadata": {},
   "source": [
    "## 100000 rows, standard scaling, no outlier removal"
   ]
  },
  {
   "cell_type": "code",
   "execution_count": 11,
   "metadata": {},
   "outputs": [
    {
     "name": "stdout",
     "output_type": "stream",
     "text": [
      "Train R2 score:  0.14355700876265898\n",
      "Test R2 score:  0.005752405341934663\n"
     ]
    }
   ],
   "source": [
    "X = pd.read_pickle('X_standard', compression = 'gzip')\n",
    "y = pd.read_pickle('y', compression = 'gzip')\n",
    "X_train, X_test, y_train, y_test = train_test_split(X, y,\n",
    "                            test_size = 0.2, random_state = 1)\n",
    "xgboost = XGBRegressor(n_estimators = 100, learning_rate = 0.1,\n",
    "                      reg_alpha = 8)\n",
    "xgboost.fit(X_train, y_train)\n",
    "y_pred = xgboost.predict(X_test)\n",
    "\n",
    "print('Train R2 score: ', xgboost.score(X_train, y_train))\n",
    "print('Test R2 score: ', r2_score(y_test, y_pred))"
   ]
  },
  {
   "cell_type": "markdown",
   "metadata": {},
   "source": [
    "## 100000 rows, min-max scaling, no outlier removal"
   ]
  },
  {
   "cell_type": "code",
   "execution_count": 10,
   "metadata": {},
   "outputs": [
    {
     "name": "stdout",
     "output_type": "stream",
     "text": [
      "Train R2 score:  0.14355700876265898\n",
      "Test R2 score:  0.005692622235527689\n"
     ]
    }
   ],
   "source": [
    "X = pd.read_pickle('X_minmax', compression = 'gzip')\n",
    "y = pd.read_pickle('y', compression = 'gzip')\n",
    "X_train, X_test, y_train, y_test = train_test_split(X, y,\n",
    "                            test_size = 0.2, random_state = 1)\n",
    "xgboost = XGBRegressor(n_estimators = 100, learning_rate = 0.1,\n",
    "                      reg_alpha = 8)\n",
    "xgboost.fit(X_train, y_train)\n",
    "y_pred = xgboost.predict(X_test)\n",
    "\n",
    "print('Train R2 score: ', xgboost.score(X_train, y_train))\n",
    "print('Test R2 score: ', r2_score(y_test, y_pred))"
   ]
  },
  {
   "cell_type": "markdown",
   "metadata": {},
   "source": [
    "## 100000 rows, robust scaling, no outlier removal"
   ]
  },
  {
   "cell_type": "code",
   "execution_count": 12,
   "metadata": {},
   "outputs": [
    {
     "name": "stdout",
     "output_type": "stream",
     "text": [
      "Train R2 score:  0.14355700876265898\n",
      "Test R2 score:  0.005653810087580369\n"
     ]
    }
   ],
   "source": [
    "X = pd.read_pickle('X_robust', compression = 'gzip')\n",
    "y = pd.read_pickle('y', compression = 'gzip')\n",
    "X_train, X_test, y_train, y_test = train_test_split(X, y,\n",
    "                            test_size = 0.2, random_state = 1)\n",
    "xgboost = XGBRegressor(n_estimators = 100, learning_rate = 0.1,\n",
    "                      reg_alpha = 8)\n",
    "xgboost.fit(X_train, y_train)\n",
    "y_pred = xgboost.predict(X_test)\n",
    "\n",
    "print('Train R2 score: ', xgboost.score(X_train, y_train))\n",
    "print('Test R2 score: ', r2_score(y_test, y_pred))"
   ]
  },
  {
   "cell_type": "markdown",
   "metadata": {},
   "source": [
    "## 100000 rows, power transformation, no outlier removal"
   ]
  },
  {
   "cell_type": "code",
   "execution_count": 14,
   "metadata": {},
   "outputs": [
    {
     "name": "stdout",
     "output_type": "stream",
     "text": [
      "Train R2 score:  0.14355700876265898\n",
      "Test R2 score:  0.0056373997010491506\n"
     ]
    }
   ],
   "source": [
    "X = pd.read_pickle('X_powertrans', compression = 'gzip')\n",
    "y = pd.read_pickle('y', compression = 'gzip')\n",
    "X_train, X_test, y_train, y_test = train_test_split(X, y,\n",
    "                            test_size = 0.2, random_state = 1)\n",
    "xgboost = XGBRegressor(n_estimators = 100, learning_rate = 0.1,\n",
    "                      reg_alpha = 8)\n",
    "xgboost.fit(X_train, y_train)\n",
    "y_pred = xgboost.predict(X_test)\n",
    "\n",
    "print('Train R2 score: ', xgboost.score(X_train, y_train))\n",
    "print('Test R2 score: ', r2_score(y_test, y_pred))"
   ]
  },
  {
   "cell_type": "markdown",
   "metadata": {},
   "source": [
    "## 100000 rows, standard scaler, month (1-12) and day of week (0-6) as categorical numerical variables"
   ]
  },
  {
   "cell_type": "code",
   "execution_count": 13,
   "metadata": {},
   "outputs": [],
   "source": [
    "X = pd.read_pickle('X_fl_datetime_standard', compression = 'gzip')\n",
    "X['month'] = X['fl_date'].dt.month\n",
    "X['day_of_week'] = X['fl_date'].dt.dayofweek\n",
    "X = X.drop('fl_date', axis = 1)\n",
    "y = pd.read_pickle('y', compression = 'gzip')"
   ]
  },
  {
   "cell_type": "code",
   "execution_count": 14,
   "metadata": {},
   "outputs": [
    {
     "data": {
      "text/html": [
       "<div>\n",
       "<style scoped>\n",
       "    .dataframe tbody tr th:only-of-type {\n",
       "        vertical-align: middle;\n",
       "    }\n",
       "\n",
       "    .dataframe tbody tr th {\n",
       "        vertical-align: top;\n",
       "    }\n",
       "\n",
       "    .dataframe thead th {\n",
       "        text-align: right;\n",
       "    }\n",
       "</style>\n",
       "<table border=\"1\" class=\"dataframe\">\n",
       "  <thead>\n",
       "    <tr style=\"text-align: right;\">\n",
       "      <th></th>\n",
       "      <th>crs_dep_timeFT</th>\n",
       "      <th>crs_arr_timeFT</th>\n",
       "      <th>crs_elapsed_timeFT</th>\n",
       "      <th>distanceFT</th>\n",
       "      <th>op_unique_carrier</th>\n",
       "      <th>origin</th>\n",
       "      <th>dest</th>\n",
       "      <th>month</th>\n",
       "      <th>day_of_week</th>\n",
       "    </tr>\n",
       "  </thead>\n",
       "  <tbody>\n",
       "    <tr>\n",
       "      <th>0</th>\n",
       "      <td>0.404950</td>\n",
       "      <td>0.475464</td>\n",
       "      <td>-0.252310</td>\n",
       "      <td>-0.371468</td>\n",
       "      <td>0.538777</td>\n",
       "      <td>1.766642</td>\n",
       "      <td>-0.046907</td>\n",
       "      <td>4</td>\n",
       "      <td>0</td>\n",
       "    </tr>\n",
       "    <tr>\n",
       "      <th>1</th>\n",
       "      <td>-1.030286</td>\n",
       "      <td>-1.074137</td>\n",
       "      <td>-0.808416</td>\n",
       "      <td>-0.651979</td>\n",
       "      <td>-0.541576</td>\n",
       "      <td>-1.089924</td>\n",
       "      <td>-0.722955</td>\n",
       "      <td>7</td>\n",
       "      <td>6</td>\n",
       "    </tr>\n",
       "    <tr>\n",
       "      <th>2</th>\n",
       "      <td>-0.825252</td>\n",
       "      <td>0.088064</td>\n",
       "      <td>0.706974</td>\n",
       "      <td>0.748875</td>\n",
       "      <td>0.484104</td>\n",
       "      <td>-1.104809</td>\n",
       "      <td>-0.330836</td>\n",
       "      <td>4</td>\n",
       "      <td>1</td>\n",
       "    </tr>\n",
       "    <tr>\n",
       "      <th>3</th>\n",
       "      <td>0.609983</td>\n",
       "      <td>0.475464</td>\n",
       "      <td>-0.794514</td>\n",
       "      <td>-0.889988</td>\n",
       "      <td>0.484104</td>\n",
       "      <td>0.018107</td>\n",
       "      <td>0.555854</td>\n",
       "      <td>11</td>\n",
       "      <td>2</td>\n",
       "    </tr>\n",
       "    <tr>\n",
       "      <th>4</th>\n",
       "      <td>-0.005118</td>\n",
       "      <td>0.088064</td>\n",
       "      <td>-0.474752</td>\n",
       "      <td>-0.597577</td>\n",
       "      <td>0.210159</td>\n",
       "      <td>-0.329730</td>\n",
       "      <td>1.621178</td>\n",
       "      <td>10</td>\n",
       "      <td>5</td>\n",
       "    </tr>\n",
       "    <tr>\n",
       "      <th>...</th>\n",
       "      <td>...</td>\n",
       "      <td>...</td>\n",
       "      <td>...</td>\n",
       "      <td>...</td>\n",
       "      <td>...</td>\n",
       "      <td>...</td>\n",
       "      <td>...</td>\n",
       "      <td>...</td>\n",
       "      <td>...</td>\n",
       "    </tr>\n",
       "    <tr>\n",
       "      <th>99995</th>\n",
       "      <td>0.404950</td>\n",
       "      <td>0.281764</td>\n",
       "      <td>-0.808416</td>\n",
       "      <td>-0.704681</td>\n",
       "      <td>-0.541576</td>\n",
       "      <td>-0.861272</td>\n",
       "      <td>0.260061</td>\n",
       "      <td>9</td>\n",
       "      <td>1</td>\n",
       "    </tr>\n",
       "    <tr>\n",
       "      <th>99996</th>\n",
       "      <td>1.635151</td>\n",
       "      <td>-2.817438</td>\n",
       "      <td>-0.224504</td>\n",
       "      <td>-0.087557</td>\n",
       "      <td>0.448690</td>\n",
       "      <td>1.766642</td>\n",
       "      <td>3.889518</td>\n",
       "      <td>10</td>\n",
       "      <td>0</td>\n",
       "    </tr>\n",
       "    <tr>\n",
       "      <th>99997</th>\n",
       "      <td>1.020050</td>\n",
       "      <td>1.250264</td>\n",
       "      <td>-0.599876</td>\n",
       "      <td>-0.388469</td>\n",
       "      <td>1.202815</td>\n",
       "      <td>-0.065834</td>\n",
       "      <td>0.349519</td>\n",
       "      <td>1</td>\n",
       "      <td>1</td>\n",
       "    </tr>\n",
       "    <tr>\n",
       "      <th>99998</th>\n",
       "      <td>0.815017</td>\n",
       "      <td>0.862864</td>\n",
       "      <td>-0.766708</td>\n",
       "      <td>-0.925690</td>\n",
       "      <td>0.569946</td>\n",
       "      <td>0.513858</td>\n",
       "      <td>-1.006962</td>\n",
       "      <td>6</td>\n",
       "      <td>1</td>\n",
       "    </tr>\n",
       "    <tr>\n",
       "      <th>99999</th>\n",
       "      <td>0.609983</td>\n",
       "      <td>0.669164</td>\n",
       "      <td>-0.446947</td>\n",
       "      <td>-0.254164</td>\n",
       "      <td>0.214879</td>\n",
       "      <td>-0.448741</td>\n",
       "      <td>-0.943328</td>\n",
       "      <td>7</td>\n",
       "      <td>5</td>\n",
       "    </tr>\n",
       "  </tbody>\n",
       "</table>\n",
       "<p>98047 rows × 9 columns</p>\n",
       "</div>"
      ],
      "text/plain": [
       "       crs_dep_timeFT  crs_arr_timeFT  crs_elapsed_timeFT  distanceFT  \\\n",
       "0            0.404950        0.475464           -0.252310   -0.371468   \n",
       "1           -1.030286       -1.074137           -0.808416   -0.651979   \n",
       "2           -0.825252        0.088064            0.706974    0.748875   \n",
       "3            0.609983        0.475464           -0.794514   -0.889988   \n",
       "4           -0.005118        0.088064           -0.474752   -0.597577   \n",
       "...               ...             ...                 ...         ...   \n",
       "99995        0.404950        0.281764           -0.808416   -0.704681   \n",
       "99996        1.635151       -2.817438           -0.224504   -0.087557   \n",
       "99997        1.020050        1.250264           -0.599876   -0.388469   \n",
       "99998        0.815017        0.862864           -0.766708   -0.925690   \n",
       "99999        0.609983        0.669164           -0.446947   -0.254164   \n",
       "\n",
       "       op_unique_carrier    origin      dest  month  day_of_week  \n",
       "0               0.538777  1.766642 -0.046907      4            0  \n",
       "1              -0.541576 -1.089924 -0.722955      7            6  \n",
       "2               0.484104 -1.104809 -0.330836      4            1  \n",
       "3               0.484104  0.018107  0.555854     11            2  \n",
       "4               0.210159 -0.329730  1.621178     10            5  \n",
       "...                  ...       ...       ...    ...          ...  \n",
       "99995          -0.541576 -0.861272  0.260061      9            1  \n",
       "99996           0.448690  1.766642  3.889518     10            0  \n",
       "99997           1.202815 -0.065834  0.349519      1            1  \n",
       "99998           0.569946  0.513858 -1.006962      6            1  \n",
       "99999           0.214879 -0.448741 -0.943328      7            5  \n",
       "\n",
       "[98047 rows x 9 columns]"
      ]
     },
     "execution_count": 14,
     "metadata": {},
     "output_type": "execute_result"
    }
   ],
   "source": [
    "X"
   ]
  },
  {
   "cell_type": "code",
   "execution_count": 15,
   "metadata": {},
   "outputs": [
    {
     "data": {
      "text/plain": [
       "0        59.0\n",
       "1       -20.0\n",
       "2        -1.0\n",
       "3       -18.0\n",
       "4       -15.0\n",
       "         ... \n",
       "99995    -6.0\n",
       "99996    -9.0\n",
       "99997   -18.0\n",
       "99998   -12.0\n",
       "99999    -1.0\n",
       "Name: arr_delay, Length: 98047, dtype: float64"
      ]
     },
     "execution_count": 15,
     "metadata": {},
     "output_type": "execute_result"
    }
   ],
   "source": [
    "y"
   ]
  },
  {
   "cell_type": "code",
   "execution_count": 30,
   "metadata": {},
   "outputs": [
    {
     "name": "stdout",
     "output_type": "stream",
     "text": [
      "Train R2 score:  0.14907160320446422\n",
      "Test R2 score:  0.017677814376295342\n"
     ]
    }
   ],
   "source": [
    "X_train, X_test, y_train, y_test = train_test_split(X, y,\n",
    "                            test_size = 0.2, random_state = 999)\n",
    "xgboost = XGBRegressor(n_estimators = 100, learning_rate = 0.1,\n",
    "                      reg_alpha = 8)\n",
    "xgboost.fit(X_train, y_train)\n",
    "y_pred = xgboost.predict(X_test)\n",
    "\n",
    "print('Train R2 score: ', xgboost.score(X_train, y_train))\n",
    "print('Test R2 score: ', r2_score(y_test, y_pred))"
   ]
  },
  {
   "cell_type": "markdown",
   "metadata": {},
   "source": [
    "## 100000 rows, min-max scaler, month (1-12) and day of week (0-6) as categorical numerical variables"
   ]
  },
  {
   "cell_type": "code",
   "execution_count": 9,
   "metadata": {},
   "outputs": [],
   "source": [
    "X = pd.read_pickle('X_fl_datetime_minmax', compression = 'gzip')\n",
    "X['month'] = X['fl_date'].dt.month\n",
    "X['day_of_week'] = X['fl_date'].dt.dayofweek\n",
    "X = X.drop('fl_date', axis = 1)\n",
    "y = pd.read_pickle('y', compression = 'gzip')"
   ]
  },
  {
   "cell_type": "code",
   "execution_count": 10,
   "metadata": {},
   "outputs": [
    {
     "name": "stdout",
     "output_type": "stream",
     "text": [
      "Train R2 score:  0.15977622435474026\n",
      "Test R2 score:  0.009102573118755508\n"
     ]
    }
   ],
   "source": [
    "X_train, X_test, y_train, y_test = train_test_split(X, y,\n",
    "                            test_size = 0.2, random_state = 1)\n",
    "xgboost = XGBRegressor(n_estimators = 100, learning_rate = 0.1,\n",
    "                      reg_alpha = 8)\n",
    "xgboost.fit(X_train, y_train)\n",
    "y_pred = xgboost.predict(X_test)\n",
    "\n",
    "print('Train R2 score: ', xgboost.score(X_train, y_train))\n",
    "print('Test R2 score: ', r2_score(y_test, y_pred))"
   ]
  },
  {
   "cell_type": "markdown",
   "metadata": {},
   "source": [
    "## 100000 rows, standard scaler, month and day of week encoded as dummy variables"
   ]
  },
  {
   "cell_type": "code",
   "execution_count": 14,
   "metadata": {},
   "outputs": [],
   "source": [
    "X = pd.read_pickle('X_fl_datetime_standard', compression = 'gzip')\n",
    "X['month'] = X['fl_date'].dt.month\n",
    "X['day_of_week'] = X['fl_date'].dt.dayofweek\n",
    "X = X.drop('fl_date', axis = 1)\n",
    "y = pd.read_pickle('y', compression = 'gzip')"
   ]
  },
  {
   "cell_type": "code",
   "execution_count": 20,
   "metadata": {},
   "outputs": [],
   "source": [
    "X['month'] = X['month'].astype(str)\n",
    "X['day_of_week'] = X['day_of_week'].astype(str)\n",
    "X = pd.get_dummies(X)"
   ]
  },
  {
   "cell_type": "code",
   "execution_count": 25,
   "metadata": {},
   "outputs": [
    {
     "name": "stdout",
     "output_type": "stream",
     "text": [
      "Train R2 score:  0.17279104639136944\n",
      "Test R2 score:  0.005538443479018329\n"
     ]
    }
   ],
   "source": [
    "X_train, X_test, y_train, y_test = train_test_split(X, y,\n",
    "                            test_size = 0.2, random_state = 1)\n",
    "xgboost = XGBRegressor(n_estimators = 100, learning_rate = 0.1,\n",
    "                      reg_alpha = 8)\n",
    "xgboost.fit(X_train, y_train)\n",
    "y_pred = xgboost.predict(X_test)\n",
    "\n",
    "print('Train R2 score: ', xgboost.score(X_train, y_train))\n",
    "print('Test R2 score: ', r2_score(y_test, y_pred))"
   ]
  },
  {
   "cell_type": "markdown",
   "metadata": {},
   "source": [
    "## 100000 rows, min-max scaler, month and day of week encoded as dummy variables"
   ]
  },
  {
   "cell_type": "code",
   "execution_count": 26,
   "metadata": {},
   "outputs": [],
   "source": [
    "X = pd.read_pickle('X_fl_datetime_minmax', compression = 'gzip')\n",
    "X['month'] = X['fl_date'].dt.month\n",
    "X['day_of_week'] = X['fl_date'].dt.dayofweek\n",
    "X = X.drop('fl_date', axis = 1)\n",
    "y = pd.read_pickle('y', compression = 'gzip')"
   ]
  },
  {
   "cell_type": "code",
   "execution_count": 27,
   "metadata": {},
   "outputs": [],
   "source": [
    "X['month'] = X['month'].astype(str)\n",
    "X['day_of_week'] = X['day_of_week'].astype(str)\n",
    "X = pd.get_dummies(X)"
   ]
  },
  {
   "cell_type": "code",
   "execution_count": 29,
   "metadata": {},
   "outputs": [
    {
     "name": "stdout",
     "output_type": "stream",
     "text": [
      "Train R2 score:  0.14907160320446422\n",
      "Test R2 score:  0.017677814376295342\n"
     ]
    }
   ],
   "source": [
    "X_train, X_test, y_train, y_test = train_test_split(X, y,\n",
    "                            test_size = 0.2, random_state = 999)\n",
    "xgboost = XGBRegressor(n_estimators = 100, learning_rate = 0.1,\n",
    "                      reg_alpha = 8)\n",
    "xgboost.fit(X_train, y_train)\n",
    "y_pred = xgboost.predict(X_test)\n",
    "\n",
    "print('Train R2 score: ', xgboost.score(X_train, y_train))\n",
    "print('Test R2 score: ', r2_score(y_test, y_pred))"
   ]
  },
  {
   "cell_type": "markdown",
   "metadata": {},
   "source": [
    "## PCA dimensionality reduction of features (experimenting)"
   ]
  },
  {
   "cell_type": "code",
   "execution_count": 31,
   "metadata": {},
   "outputs": [],
   "source": [
    "X = pd.read_pickle('X_fl_datetime_standard', compression = 'gzip')\n",
    "X['month'] = X['fl_date'].dt.month\n",
    "X['day_of_week'] = X['fl_date'].dt.dayofweek\n",
    "X = X.drop('fl_date', axis = 1)\n",
    "y = pd.read_pickle('y', compression = 'gzip')"
   ]
  },
  {
   "cell_type": "code",
   "execution_count": 32,
   "metadata": {},
   "outputs": [],
   "source": [
    "X['month'] = X['month'].astype(str)\n",
    "X['day_of_week'] = X['day_of_week'].astype(str)\n",
    "X = pd.get_dummies(X)"
   ]
  },
  {
   "cell_type": "code",
   "execution_count": 40,
   "metadata": {},
   "outputs": [
    {
     "data": {
      "text/plain": [
       "(98047, 26)"
      ]
     },
     "execution_count": 40,
     "metadata": {},
     "output_type": "execute_result"
    }
   ],
   "source": [
    "X.shape"
   ]
  },
  {
   "cell_type": "code",
   "execution_count": 33,
   "metadata": {},
   "outputs": [],
   "source": [
    "from sklearn.decomposition import PCA"
   ]
  },
  {
   "cell_type": "code",
   "execution_count": 58,
   "metadata": {},
   "outputs": [
    {
     "data": {
      "text/plain": [
       "(5, 98047)"
      ]
     },
     "execution_count": 58,
     "metadata": {},
     "output_type": "execute_result"
    }
   ],
   "source": [
    "pca = PCA(n_components = 5)\n",
    "X_pca = pca.fit(X.T)\n",
    "X_pca.components_.shape"
   ]
  },
  {
   "cell_type": "code",
   "execution_count": 59,
   "metadata": {},
   "outputs": [
    {
     "data": {
      "text/plain": [
       "(98047, 5)"
      ]
     },
     "execution_count": 59,
     "metadata": {},
     "output_type": "execute_result"
    }
   ],
   "source": [
    "X_reduced = X_pca.components_.T\n",
    "X_reduced.shape"
   ]
  },
  {
   "cell_type": "code",
   "execution_count": 62,
   "metadata": {},
   "outputs": [
    {
     "name": "stdout",
     "output_type": "stream",
     "text": [
      "Train R2 score:  0.29347805260637816\n",
      "Test R2 score:  -0.04922182023826038\n"
     ]
    }
   ],
   "source": [
    "X_train, X_test, y_train, y_test = train_test_split(X_reduced, y,\n",
    "                            test_size = 0.2, random_state = 1)\n",
    "xgboost = XGBRegressor()\n",
    "xgboost.fit(X_train, y_train)\n",
    "y_pred = xgboost.predict(X_test)\n",
    "\n",
    "print('Train R2 score: ', xgboost.score(X_train, y_train))\n",
    "print('Test R2 score: ', r2_score(y_test, y_pred))"
   ]
  },
  {
   "cell_type": "markdown",
   "metadata": {},
   "source": [
    "## Try PCA again with all original categorical features as dummy variables"
   ]
  },
  {
   "cell_type": "code",
   "execution_count": 72,
   "metadata": {},
   "outputs": [],
   "source": [
    "X = pd.read_pickle('X_all_dummy', compression = 'gzip')\n",
    "X['month'] = X['fl_date'].dt.month\n",
    "X['day_of_week'] = X['fl_date'].dt.dayofweek\n",
    "X = X.drop('fl_date', axis = 1)\n",
    "y = pd.read_pickle('y', compression = 'gzip')"
   ]
  },
  {
   "cell_type": "code",
   "execution_count": 73,
   "metadata": {},
   "outputs": [],
   "source": [
    "X['month'] = X['month'].astype(str)\n",
    "X['day_of_week'] = X['day_of_week'].astype(str)\n",
    "X = pd.get_dummies(X)"
   ]
  },
  {
   "cell_type": "code",
   "execution_count": 74,
   "metadata": {},
   "outputs": [
    {
     "data": {
      "text/plain": [
       "(98047, 789)"
      ]
     },
     "execution_count": 74,
     "metadata": {},
     "output_type": "execute_result"
    }
   ],
   "source": [
    "X.shape"
   ]
  },
  {
   "cell_type": "code",
   "execution_count": 81,
   "metadata": {},
   "outputs": [
    {
     "name": "stdout",
     "output_type": "stream",
     "text": [
      "(8, 98047)\n",
      "(98047, 8)\n"
     ]
    }
   ],
   "source": [
    "pca = PCA(n_components = 8)\n",
    "X_pca = pca.fit(X.T)\n",
    "print(X_pca.components_.shape)\n",
    "X_reduced = X_pca.components_.T\n",
    "print(X_reduced.shape)"
   ]
  },
  {
   "cell_type": "code",
   "execution_count": 82,
   "metadata": {},
   "outputs": [
    {
     "name": "stdout",
     "output_type": "stream",
     "text": [
      "Train R2 score:  0.324311607831399\n",
      "Test R2 score:  -0.03628132015786467\n"
     ]
    }
   ],
   "source": [
    "X_train, X_test, y_train, y_test = train_test_split(X_reduced, y,\n",
    "                            test_size = 0.2, random_state = 1)\n",
    "xgboost = XGBRegressor()\n",
    "xgboost.fit(X_train, y_train)\n",
    "y_pred = xgboost.predict(X_test)\n",
    "\n",
    "print('Train R2 score: ', xgboost.score(X_train, y_train))\n",
    "print('Test R2 score: ', r2_score(y_test, y_pred))"
   ]
  },
  {
   "cell_type": "markdown",
   "metadata": {},
   "source": [
    "## 100000 rows, extra y_cat column in X"
   ]
  },
  {
   "cell_type": "code",
   "execution_count": 83,
   "metadata": {},
   "outputs": [],
   "source": [
    "X = pd.read_pickle('X_cat', compression = 'gzip')\n",
    "y = pd.read_pickle('y', compression = 'gzip')"
   ]
  },
  {
   "cell_type": "code",
   "execution_count": 107,
   "metadata": {},
   "outputs": [
    {
     "name": "stdout",
     "output_type": "stream",
     "text": [
      "Train R2 score:  0.027056561459246287\n",
      "Test R2 score:  0.024163787554979166\n",
      "RMSE:  2275.89509915173\n"
     ]
    }
   ],
   "source": [
    "X_train, X_test, y_train, y_test = train_test_split(X, y,\n",
    "                            test_size = 0.2, random_state = 1)\n",
    "xgboost = XGBRegressor(max_depth = 1)\n",
    "xgboost.fit(X_train, y_train)\n",
    "y_pred = xgboost.predict(X_test)\n",
    "\n",
    "print('Train R2 score: ', xgboost.score(X_train, y_train))\n",
    "print('Test R2 score: ', r2_score(y_test, y_pred))\n",
    "print('RMSE: ', mean_squared_error(y_test, y_pred))"
   ]
  },
  {
   "cell_type": "markdown",
   "metadata": {},
   "source": [
    "## XGBRegressor() grid search"
   ]
  },
  {
   "cell_type": "code",
   "execution_count": 106,
   "metadata": {},
   "outputs": [],
   "source": [
    "parameters = {\n",
    "            'colsample_bytree': [0.2, 0.3, 0.4],\n",
    "            'learning_rate': [0.01, 0.1, 1, 10],\n",
    "            'max_depth': [3, 4, 5, 6, 7],\n",
    "            'reg_lambda': [1, 10, 20],\n",
    "            'n_estimators': [10, 100, 1000, 10000]\n",
    "             }"
   ]
  },
  {
   "cell_type": "code",
   "execution_count": null,
   "metadata": {},
   "outputs": [
    {
     "name": "stdout",
     "output_type": "stream",
     "text": [
      "Fitting 5 folds for each of 3500 candidates, totalling 17500 fits\n"
     ]
    },
    {
     "name": "stderr",
     "output_type": "stream",
     "text": [
      "[Parallel(n_jobs=-1)]: Using backend LokyBackend with 8 concurrent workers.\n",
      "[Parallel(n_jobs=-1)]: Done  16 tasks      | elapsed:    4.6s\n",
      "[Parallel(n_jobs=-1)]: Done 112 tasks      | elapsed:  2.7min\n",
      "[Parallel(n_jobs=-1)]: Done 272 tasks      | elapsed:  7.8min\n",
      "[Parallel(n_jobs=-1)]: Done 496 tasks      | elapsed: 18.4min\n",
      "[Parallel(n_jobs=-1)]: Done 784 tasks      | elapsed: 26.3min\n",
      "[Parallel(n_jobs=-1)]: Done 1136 tasks      | elapsed: 38.3min\n",
      "[Parallel(n_jobs=-1)]: Done 1552 tasks      | elapsed: 52.7min\n"
     ]
    }
   ],
   "source": [
    "from sklearn.model_selection import GridSearchCV\n",
    "clf = GridSearchCV(XGBRegressor(), parameters, verbose=3, n_jobs=-1) #if running overnight, use n_jobs=-1 for max speed.\n",
    "clf.fit(X,y)"
   ]
  },
  {
   "cell_type": "markdown",
   "metadata": {},
   "source": [
    "## Final test set"
   ]
  },
  {
   "cell_type": "code",
   "execution_count": 19,
   "metadata": {},
   "outputs": [],
   "source": [
    "X_final = pd.read_csv('Final DF Pred', index_col = 0)\n",
    "X_final = X_final.rename(columns = {'dayWeek': 'day_of_week'})"
   ]
  },
  {
   "cell_type": "code",
   "execution_count": 38,
   "metadata": {},
   "outputs": [],
   "source": [
    "xgboost = XGBRegressor(n_estimators = 100, learning_rate = 0.1,\n",
    "                      reg_alpha = 8)\n",
    "xgboost.fit(X, y)\n",
    "y_pred = xgboost.predict(X_final)"
   ]
  },
  {
   "cell_type": "code",
   "execution_count": 44,
   "metadata": {},
   "outputs": [
    {
     "data": {
      "text/html": [
       "<div>\n",
       "<style scoped>\n",
       "    .dataframe tbody tr th:only-of-type {\n",
       "        vertical-align: middle;\n",
       "    }\n",
       "\n",
       "    .dataframe tbody tr th {\n",
       "        vertical-align: top;\n",
       "    }\n",
       "\n",
       "    .dataframe thead th {\n",
       "        text-align: right;\n",
       "    }\n",
       "</style>\n",
       "<table border=\"1\" class=\"dataframe\">\n",
       "  <thead>\n",
       "    <tr style=\"text-align: right;\">\n",
       "      <th></th>\n",
       "      <th>crs_dep_timeFT</th>\n",
       "      <th>crs_arr_timeFT</th>\n",
       "      <th>crs_elapsed_timeFT</th>\n",
       "      <th>distanceFT</th>\n",
       "      <th>op_unique_carrier</th>\n",
       "      <th>origin</th>\n",
       "      <th>dest</th>\n",
       "      <th>month</th>\n",
       "      <th>day_of_week</th>\n",
       "      <th>predicted_delay</th>\n",
       "    </tr>\n",
       "  </thead>\n",
       "  <tbody>\n",
       "    <tr>\n",
       "      <th>0</th>\n",
       "      <td>1.002153</td>\n",
       "      <td>0.847341</td>\n",
       "      <td>-0.660447</td>\n",
       "      <td>-0.717995</td>\n",
       "      <td>-0.570204</td>\n",
       "      <td>-1.057898</td>\n",
       "      <td>1.382909</td>\n",
       "      <td>1</td>\n",
       "      <td>2</td>\n",
       "      <td>12.721513</td>\n",
       "    </tr>\n",
       "    <tr>\n",
       "      <th>1</th>\n",
       "      <td>-0.420511</td>\n",
       "      <td>-0.298153</td>\n",
       "      <td>-0.728836</td>\n",
       "      <td>-0.717995</td>\n",
       "      <td>-0.570204</td>\n",
       "      <td>-1.057898</td>\n",
       "      <td>1.382909</td>\n",
       "      <td>1</td>\n",
       "      <td>2</td>\n",
       "      <td>9.296444</td>\n",
       "    </tr>\n",
       "    <tr>\n",
       "      <th>2</th>\n",
       "      <td>1.408629</td>\n",
       "      <td>1.229172</td>\n",
       "      <td>-1.002392</td>\n",
       "      <td>-0.768505</td>\n",
       "      <td>-0.570204</td>\n",
       "      <td>-1.057898</td>\n",
       "      <td>-0.946535</td>\n",
       "      <td>1</td>\n",
       "      <td>2</td>\n",
       "      <td>2.880046</td>\n",
       "    </tr>\n",
       "    <tr>\n",
       "      <th>3</th>\n",
       "      <td>-0.014036</td>\n",
       "      <td>-0.107237</td>\n",
       "      <td>-0.934003</td>\n",
       "      <td>-0.768505</td>\n",
       "      <td>-0.570204</td>\n",
       "      <td>-1.057898</td>\n",
       "      <td>-0.946535</td>\n",
       "      <td>1</td>\n",
       "      <td>2</td>\n",
       "      <td>0.629726</td>\n",
       "    </tr>\n",
       "    <tr>\n",
       "      <th>4</th>\n",
       "      <td>-0.826987</td>\n",
       "      <td>-0.870900</td>\n",
       "      <td>-0.865614</td>\n",
       "      <td>-0.768505</td>\n",
       "      <td>-0.570204</td>\n",
       "      <td>-1.057898</td>\n",
       "      <td>-0.946535</td>\n",
       "      <td>1</td>\n",
       "      <td>2</td>\n",
       "      <td>-4.869950</td>\n",
       "    </tr>\n",
       "    <tr>\n",
       "      <th>...</th>\n",
       "      <td>...</td>\n",
       "      <td>...</td>\n",
       "      <td>...</td>\n",
       "      <td>...</td>\n",
       "      <td>...</td>\n",
       "      <td>...</td>\n",
       "      <td>...</td>\n",
       "      <td>...</td>\n",
       "      <td>...</td>\n",
       "      <td>...</td>\n",
       "    </tr>\n",
       "    <tr>\n",
       "      <th>150618</th>\n",
       "      <td>0.595678</td>\n",
       "      <td>0.656425</td>\n",
       "      <td>0.515841</td>\n",
       "      <td>0.408392</td>\n",
       "      <td>0.185286</td>\n",
       "      <td>0.481501</td>\n",
       "      <td>-0.440436</td>\n",
       "      <td>1</td>\n",
       "      <td>1</td>\n",
       "      <td>4.241131</td>\n",
       "    </tr>\n",
       "    <tr>\n",
       "      <th>150619</th>\n",
       "      <td>-1.233462</td>\n",
       "      <td>-1.252732</td>\n",
       "      <td>-0.414247</td>\n",
       "      <td>-0.468809</td>\n",
       "      <td>0.185286</td>\n",
       "      <td>0.481501</td>\n",
       "      <td>0.191313</td>\n",
       "      <td>1</td>\n",
       "      <td>1</td>\n",
       "      <td>-2.170033</td>\n",
       "    </tr>\n",
       "    <tr>\n",
       "      <th>150620</th>\n",
       "      <td>-0.826987</td>\n",
       "      <td>-0.679984</td>\n",
       "      <td>-0.523670</td>\n",
       "      <td>-0.468809</td>\n",
       "      <td>0.185286</td>\n",
       "      <td>0.016765</td>\n",
       "      <td>-0.695755</td>\n",
       "      <td>1</td>\n",
       "      <td>1</td>\n",
       "      <td>0.679016</td>\n",
       "    </tr>\n",
       "    <tr>\n",
       "      <th>150621</th>\n",
       "      <td>1.408629</td>\n",
       "      <td>1.420088</td>\n",
       "      <td>-0.728836</td>\n",
       "      <td>-0.603504</td>\n",
       "      <td>0.185286</td>\n",
       "      <td>1.336250</td>\n",
       "      <td>0.191313</td>\n",
       "      <td>1</td>\n",
       "      <td>1</td>\n",
       "      <td>6.247889</td>\n",
       "    </tr>\n",
       "    <tr>\n",
       "      <th>150622</th>\n",
       "      <td>-0.014036</td>\n",
       "      <td>0.274594</td>\n",
       "      <td>-0.140692</td>\n",
       "      <td>0.139002</td>\n",
       "      <td>0.185286</td>\n",
       "      <td>-0.462028</td>\n",
       "      <td>-0.440436</td>\n",
       "      <td>1</td>\n",
       "      <td>1</td>\n",
       "      <td>4.695188</td>\n",
       "    </tr>\n",
       "  </tbody>\n",
       "</table>\n",
       "<p>150623 rows × 10 columns</p>\n",
       "</div>"
      ],
      "text/plain": [
       "        crs_dep_timeFT  crs_arr_timeFT  crs_elapsed_timeFT  distanceFT  \\\n",
       "0             1.002153        0.847341           -0.660447   -0.717995   \n",
       "1            -0.420511       -0.298153           -0.728836   -0.717995   \n",
       "2             1.408629        1.229172           -1.002392   -0.768505   \n",
       "3            -0.014036       -0.107237           -0.934003   -0.768505   \n",
       "4            -0.826987       -0.870900           -0.865614   -0.768505   \n",
       "...                ...             ...                 ...         ...   \n",
       "150618        0.595678        0.656425            0.515841    0.408392   \n",
       "150619       -1.233462       -1.252732           -0.414247   -0.468809   \n",
       "150620       -0.826987       -0.679984           -0.523670   -0.468809   \n",
       "150621        1.408629        1.420088           -0.728836   -0.603504   \n",
       "150622       -0.014036        0.274594           -0.140692    0.139002   \n",
       "\n",
       "        op_unique_carrier    origin      dest  month  day_of_week  \\\n",
       "0               -0.570204 -1.057898  1.382909      1            2   \n",
       "1               -0.570204 -1.057898  1.382909      1            2   \n",
       "2               -0.570204 -1.057898 -0.946535      1            2   \n",
       "3               -0.570204 -1.057898 -0.946535      1            2   \n",
       "4               -0.570204 -1.057898 -0.946535      1            2   \n",
       "...                   ...       ...       ...    ...          ...   \n",
       "150618           0.185286  0.481501 -0.440436      1            1   \n",
       "150619           0.185286  0.481501  0.191313      1            1   \n",
       "150620           0.185286  0.016765 -0.695755      1            1   \n",
       "150621           0.185286  1.336250  0.191313      1            1   \n",
       "150622           0.185286 -0.462028 -0.440436      1            1   \n",
       "\n",
       "        predicted_delay  \n",
       "0             12.721513  \n",
       "1              9.296444  \n",
       "2              2.880046  \n",
       "3              0.629726  \n",
       "4             -4.869950  \n",
       "...                 ...  \n",
       "150618         4.241131  \n",
       "150619        -2.170033  \n",
       "150620         0.679016  \n",
       "150621         6.247889  \n",
       "150622         4.695188  \n",
       "\n",
       "[150623 rows x 10 columns]"
      ]
     },
     "execution_count": 44,
     "metadata": {},
     "output_type": "execute_result"
    }
   ],
   "source": [
    "df_final = X_final\n",
    "df_final['predicted_delay'] = y_pred\n",
    "df_final"
   ]
  },
  {
   "cell_type": "code",
   "execution_count": 45,
   "metadata": {},
   "outputs": [],
   "source": [
    "df_final.to_csv('submission.csv', compression = 'gzip')"
   ]
  }
 ],
 "metadata": {
  "kernelspec": {
   "display_name": "Python 3",
   "language": "python",
   "name": "python3"
  },
  "language_info": {
   "codemirror_mode": {
    "name": "ipython",
    "version": 3
   },
   "file_extension": ".py",
   "mimetype": "text/x-python",
   "name": "python",
   "nbconvert_exporter": "python",
   "pygments_lexer": "ipython3",
   "version": "3.7.6"
  }
 },
 "nbformat": 4,
 "nbformat_minor": 4
}
